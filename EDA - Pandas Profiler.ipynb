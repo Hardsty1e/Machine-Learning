{
 "cells": [
  {
   "cell_type": "code",
   "execution_count": 1,
   "id": "e5df5417",
   "metadata": {},
   "outputs": [],
   "source": [
    "import pandas as pd\n",
    "import numpy as np\n",
    "import seaborn as sns\n",
    "import matplotlib.pyplot as plt"
   ]
  },
  {
   "cell_type": "code",
   "execution_count": 2,
   "id": "33733075",
   "metadata": {},
   "outputs": [],
   "source": [
    "df = pd.read_csv('Datasets/titanic/train.csv')"
   ]
  },
  {
   "cell_type": "code",
   "execution_count": 3,
   "id": "1e3e42c9",
   "metadata": {},
   "outputs": [
    {
     "data": {
      "text/html": [
       "<div>\n",
       "<style scoped>\n",
       "    .dataframe tbody tr th:only-of-type {\n",
       "        vertical-align: middle;\n",
       "    }\n",
       "\n",
       "    .dataframe tbody tr th {\n",
       "        vertical-align: top;\n",
       "    }\n",
       "\n",
       "    .dataframe thead th {\n",
       "        text-align: right;\n",
       "    }\n",
       "</style>\n",
       "<table border=\"1\" class=\"dataframe\">\n",
       "  <thead>\n",
       "    <tr style=\"text-align: right;\">\n",
       "      <th></th>\n",
       "      <th>PassengerId</th>\n",
       "      <th>Survived</th>\n",
       "      <th>Pclass</th>\n",
       "      <th>Name</th>\n",
       "      <th>Sex</th>\n",
       "      <th>Age</th>\n",
       "      <th>SibSp</th>\n",
       "      <th>Parch</th>\n",
       "      <th>Ticket</th>\n",
       "      <th>Fare</th>\n",
       "      <th>Cabin</th>\n",
       "      <th>Embarked</th>\n",
       "    </tr>\n",
       "  </thead>\n",
       "  <tbody>\n",
       "    <tr>\n",
       "      <th>0</th>\n",
       "      <td>1</td>\n",
       "      <td>0</td>\n",
       "      <td>3</td>\n",
       "      <td>Braund, Mr. Owen Harris</td>\n",
       "      <td>male</td>\n",
       "      <td>22.0</td>\n",
       "      <td>1</td>\n",
       "      <td>0</td>\n",
       "      <td>A/5 21171</td>\n",
       "      <td>7.2500</td>\n",
       "      <td>NaN</td>\n",
       "      <td>S</td>\n",
       "    </tr>\n",
       "    <tr>\n",
       "      <th>1</th>\n",
       "      <td>2</td>\n",
       "      <td>1</td>\n",
       "      <td>1</td>\n",
       "      <td>Cumings, Mrs. John Bradley (Florence Briggs Th...</td>\n",
       "      <td>female</td>\n",
       "      <td>38.0</td>\n",
       "      <td>1</td>\n",
       "      <td>0</td>\n",
       "      <td>PC 17599</td>\n",
       "      <td>71.2833</td>\n",
       "      <td>C85</td>\n",
       "      <td>C</td>\n",
       "    </tr>\n",
       "    <tr>\n",
       "      <th>2</th>\n",
       "      <td>3</td>\n",
       "      <td>1</td>\n",
       "      <td>3</td>\n",
       "      <td>Heikkinen, Miss. Laina</td>\n",
       "      <td>female</td>\n",
       "      <td>26.0</td>\n",
       "      <td>0</td>\n",
       "      <td>0</td>\n",
       "      <td>STON/O2. 3101282</td>\n",
       "      <td>7.9250</td>\n",
       "      <td>NaN</td>\n",
       "      <td>S</td>\n",
       "    </tr>\n",
       "    <tr>\n",
       "      <th>3</th>\n",
       "      <td>4</td>\n",
       "      <td>1</td>\n",
       "      <td>1</td>\n",
       "      <td>Futrelle, Mrs. Jacques Heath (Lily May Peel)</td>\n",
       "      <td>female</td>\n",
       "      <td>35.0</td>\n",
       "      <td>1</td>\n",
       "      <td>0</td>\n",
       "      <td>113803</td>\n",
       "      <td>53.1000</td>\n",
       "      <td>C123</td>\n",
       "      <td>S</td>\n",
       "    </tr>\n",
       "    <tr>\n",
       "      <th>4</th>\n",
       "      <td>5</td>\n",
       "      <td>0</td>\n",
       "      <td>3</td>\n",
       "      <td>Allen, Mr. William Henry</td>\n",
       "      <td>male</td>\n",
       "      <td>35.0</td>\n",
       "      <td>0</td>\n",
       "      <td>0</td>\n",
       "      <td>373450</td>\n",
       "      <td>8.0500</td>\n",
       "      <td>NaN</td>\n",
       "      <td>S</td>\n",
       "    </tr>\n",
       "  </tbody>\n",
       "</table>\n",
       "</div>"
      ],
      "text/plain": [
       "   PassengerId  Survived  Pclass  \\\n",
       "0            1         0       3   \n",
       "1            2         1       1   \n",
       "2            3         1       3   \n",
       "3            4         1       1   \n",
       "4            5         0       3   \n",
       "\n",
       "                                                Name     Sex   Age  SibSp  \\\n",
       "0                            Braund, Mr. Owen Harris    male  22.0      1   \n",
       "1  Cumings, Mrs. John Bradley (Florence Briggs Th...  female  38.0      1   \n",
       "2                             Heikkinen, Miss. Laina  female  26.0      0   \n",
       "3       Futrelle, Mrs. Jacques Heath (Lily May Peel)  female  35.0      1   \n",
       "4                           Allen, Mr. William Henry    male  35.0      0   \n",
       "\n",
       "   Parch            Ticket     Fare Cabin Embarked  \n",
       "0      0         A/5 21171   7.2500   NaN        S  \n",
       "1      0          PC 17599  71.2833   C85        C  \n",
       "2      0  STON/O2. 3101282   7.9250   NaN        S  \n",
       "3      0            113803  53.1000  C123        S  \n",
       "4      0            373450   8.0500   NaN        S  "
      ]
     },
     "execution_count": 3,
     "metadata": {},
     "output_type": "execute_result"
    }
   ],
   "source": [
    "df.head()"
   ]
  },
  {
   "cell_type": "code",
   "execution_count": 9,
   "id": "b6c1bfba",
   "metadata": {},
   "outputs": [
    {
     "name": "stdout",
     "output_type": "stream",
     "text": [
      "Collecting ydata_profiling\n",
      "  Downloading ydata_profiling-4.7.0-py2.py3-none-any.whl.metadata (20 kB)\n",
      "Requirement already satisfied: scipy<1.12,>=1.4.1 in c:\\users\\hardsty1e\\anaconda\\lib\\site-packages (from ydata_profiling) (1.11.4)\n",
      "Requirement already satisfied: pandas!=1.4.0,<3,>1.1 in c:\\users\\hardsty1e\\anaconda\\lib\\site-packages (from ydata_profiling) (2.1.4)\n",
      "Requirement already satisfied: matplotlib<3.9,>=3.2 in c:\\users\\hardsty1e\\anaconda\\lib\\site-packages (from ydata_profiling) (3.8.0)\n",
      "Collecting pydantic>=2 (from ydata_profiling)\n",
      "  Downloading pydantic-2.7.1-py3-none-any.whl.metadata (107 kB)\n",
      "     ---------------------------------------- 0.0/107.3 kB ? eta -:--:--\n",
      "     --- ------------------------------------ 10.2/107.3 kB ? eta -:--:--\n",
      "     --- ------------------------------------ 10.2/107.3 kB ? eta -:--:--\n",
      "     -------------- ---------------------- 41.0/107.3 kB 393.8 kB/s eta 0:00:01\n",
      "     ---------------------------------- - 102.4/107.3 kB 658.3 kB/s eta 0:00:01\n",
      "     ---------------------------------- - 102.4/107.3 kB 658.3 kB/s eta 0:00:01\n",
      "     ---------------------------------- - 102.4/107.3 kB 658.3 kB/s eta 0:00:01\n",
      "     ---------------------------------- - 102.4/107.3 kB 658.3 kB/s eta 0:00:01\n",
      "     ------------------------------------ 107.3/107.3 kB 311.2 kB/s eta 0:00:00\n",
      "Requirement already satisfied: PyYAML<6.1,>=5.0.0 in c:\\users\\hardsty1e\\anaconda\\lib\\site-packages (from ydata_profiling) (6.0.1)\n",
      "Requirement already satisfied: jinja2<3.2,>=2.11.1 in c:\\users\\hardsty1e\\anaconda\\lib\\site-packages (from ydata_profiling) (3.1.3)\n",
      "Collecting visions<0.7.7,>=0.7.5 (from visions[type_image_path]<0.7.7,>=0.7.5->ydata_profiling)\n",
      "  Downloading visions-0.7.6-py3-none-any.whl.metadata (11 kB)\n",
      "Requirement already satisfied: numpy<2,>=1.16.0 in c:\\users\\hardsty1e\\anaconda\\lib\\site-packages (from ydata_profiling) (1.26.4)\n",
      "Requirement already satisfied: htmlmin==0.1.12 in c:\\users\\hardsty1e\\anaconda\\lib\\site-packages (from ydata_profiling) (0.1.12)\n",
      "Requirement already satisfied: phik<0.13,>=0.11.1 in c:\\users\\hardsty1e\\anaconda\\lib\\site-packages (from ydata_profiling) (0.12.4)\n",
      "Requirement already satisfied: requests<3,>=2.24.0 in c:\\users\\hardsty1e\\anaconda\\lib\\site-packages (from ydata_profiling) (2.31.0)\n",
      "Requirement already satisfied: tqdm<5,>=4.48.2 in c:\\users\\hardsty1e\\anaconda\\lib\\site-packages (from ydata_profiling) (4.65.0)\n",
      "Requirement already satisfied: seaborn<0.13,>=0.10.1 in c:\\users\\hardsty1e\\anaconda\\lib\\site-packages (from ydata_profiling) (0.12.2)\n",
      "Requirement already satisfied: multimethod<2,>=1.4 in c:\\users\\hardsty1e\\anaconda\\lib\\site-packages (from ydata_profiling) (1.11.2)\n",
      "Requirement already satisfied: statsmodels<1,>=0.13.2 in c:\\users\\hardsty1e\\anaconda\\lib\\site-packages (from ydata_profiling) (0.14.0)\n",
      "Collecting typeguard<5,>=4.1.2 (from ydata_profiling)\n",
      "  Downloading typeguard-4.2.1-py3-none-any.whl.metadata (3.7 kB)\n",
      "Requirement already satisfied: imagehash==4.3.1 in c:\\users\\hardsty1e\\anaconda\\lib\\site-packages (from ydata_profiling) (4.3.1)\n",
      "Collecting wordcloud>=1.9.1 (from ydata_profiling)\n",
      "  Downloading wordcloud-1.9.3-cp311-cp311-win_amd64.whl.metadata (3.5 kB)\n",
      "Collecting dacite>=1.8 (from ydata_profiling)\n",
      "  Downloading dacite-1.8.1-py3-none-any.whl.metadata (15 kB)\n",
      "Requirement already satisfied: numba<1,>=0.56.0 in c:\\users\\hardsty1e\\anaconda\\lib\\site-packages (from ydata_profiling) (0.59.0)\n",
      "Requirement already satisfied: PyWavelets in c:\\users\\hardsty1e\\anaconda\\lib\\site-packages (from imagehash==4.3.1->ydata_profiling) (1.5.0)\n",
      "Requirement already satisfied: pillow in c:\\users\\hardsty1e\\anaconda\\lib\\site-packages (from imagehash==4.3.1->ydata_profiling) (10.2.0)\n",
      "Requirement already satisfied: MarkupSafe>=2.0 in c:\\users\\hardsty1e\\anaconda\\lib\\site-packages (from jinja2<3.2,>=2.11.1->ydata_profiling) (2.1.3)\n",
      "Requirement already satisfied: contourpy>=1.0.1 in c:\\users\\hardsty1e\\anaconda\\lib\\site-packages (from matplotlib<3.9,>=3.2->ydata_profiling) (1.2.0)\n",
      "Requirement already satisfied: cycler>=0.10 in c:\\users\\hardsty1e\\anaconda\\lib\\site-packages (from matplotlib<3.9,>=3.2->ydata_profiling) (0.11.0)\n",
      "Requirement already satisfied: fonttools>=4.22.0 in c:\\users\\hardsty1e\\anaconda\\lib\\site-packages (from matplotlib<3.9,>=3.2->ydata_profiling) (4.25.0)\n",
      "Requirement already satisfied: kiwisolver>=1.0.1 in c:\\users\\hardsty1e\\anaconda\\lib\\site-packages (from matplotlib<3.9,>=3.2->ydata_profiling) (1.4.4)\n",
      "Requirement already satisfied: packaging>=20.0 in c:\\users\\hardsty1e\\anaconda\\lib\\site-packages (from matplotlib<3.9,>=3.2->ydata_profiling) (23.1)\n",
      "Requirement already satisfied: pyparsing>=2.3.1 in c:\\users\\hardsty1e\\anaconda\\lib\\site-packages (from matplotlib<3.9,>=3.2->ydata_profiling) (3.0.9)\n",
      "Requirement already satisfied: python-dateutil>=2.7 in c:\\users\\hardsty1e\\anaconda\\lib\\site-packages (from matplotlib<3.9,>=3.2->ydata_profiling) (2.8.2)\n",
      "Requirement already satisfied: llvmlite<0.43,>=0.42.0dev0 in c:\\users\\hardsty1e\\anaconda\\lib\\site-packages (from numba<1,>=0.56.0->ydata_profiling) (0.42.0)\n",
      "Requirement already satisfied: pytz>=2020.1 in c:\\users\\hardsty1e\\anaconda\\lib\\site-packages (from pandas!=1.4.0,<3,>1.1->ydata_profiling) (2023.3.post1)\n",
      "Requirement already satisfied: tzdata>=2022.1 in c:\\users\\hardsty1e\\anaconda\\lib\\site-packages (from pandas!=1.4.0,<3,>1.1->ydata_profiling) (2023.3)\n",
      "Requirement already satisfied: joblib>=0.14.1 in c:\\users\\hardsty1e\\anaconda\\lib\\site-packages (from phik<0.13,>=0.11.1->ydata_profiling) (1.1.1)\n",
      "Collecting annotated-types>=0.4.0 (from pydantic>=2->ydata_profiling)\n",
      "  Downloading annotated_types-0.6.0-py3-none-any.whl.metadata (12 kB)\n",
      "Collecting pydantic-core==2.18.2 (from pydantic>=2->ydata_profiling)\n",
      "  Downloading pydantic_core-2.18.2-cp311-none-win_amd64.whl.metadata (6.7 kB)\n",
      "Requirement already satisfied: typing-extensions>=4.6.1 in c:\\users\\hardsty1e\\anaconda\\lib\\site-packages (from pydantic>=2->ydata_profiling) (4.9.0)\n",
      "Requirement already satisfied: charset-normalizer<4,>=2 in c:\\users\\hardsty1e\\anaconda\\lib\\site-packages (from requests<3,>=2.24.0->ydata_profiling) (2.0.4)\n",
      "Requirement already satisfied: idna<4,>=2.5 in c:\\users\\hardsty1e\\anaconda\\lib\\site-packages (from requests<3,>=2.24.0->ydata_profiling) (3.4)\n",
      "Requirement already satisfied: urllib3<3,>=1.21.1 in c:\\users\\hardsty1e\\anaconda\\lib\\site-packages (from requests<3,>=2.24.0->ydata_profiling) (2.0.7)\n",
      "Requirement already satisfied: certifi>=2017.4.17 in c:\\users\\hardsty1e\\anaconda\\lib\\site-packages (from requests<3,>=2.24.0->ydata_profiling) (2024.2.2)\n",
      "Requirement already satisfied: patsy>=0.5.2 in c:\\users\\hardsty1e\\anaconda\\lib\\site-packages (from statsmodels<1,>=0.13.2->ydata_profiling) (0.5.3)\n",
      "Requirement already satisfied: colorama in c:\\users\\hardsty1e\\anaconda\\lib\\site-packages (from tqdm<5,>=4.48.2->ydata_profiling) (0.4.6)\n",
      "Collecting typing-extensions>=4.6.1 (from pydantic>=2->ydata_profiling)\n",
      "  Downloading typing_extensions-4.11.0-py3-none-any.whl.metadata (3.0 kB)\n",
      "Requirement already satisfied: attrs>=19.3.0 in c:\\users\\hardsty1e\\anaconda\\lib\\site-packages (from visions<0.7.7,>=0.7.5->visions[type_image_path]<0.7.7,>=0.7.5->ydata_profiling) (23.1.0)\n",
      "Requirement already satisfied: networkx>=2.4 in c:\\users\\hardsty1e\\anaconda\\lib\\site-packages (from visions<0.7.7,>=0.7.5->visions[type_image_path]<0.7.7,>=0.7.5->ydata_profiling) (3.1)\n",
      "Requirement already satisfied: six in c:\\users\\hardsty1e\\anaconda\\lib\\site-packages (from patsy>=0.5.2->statsmodels<1,>=0.13.2->ydata_profiling) (1.16.0)\n",
      "Downloading ydata_profiling-4.7.0-py2.py3-none-any.whl (357 kB)\n",
      "   ---------------------------------------- 0.0/357.9 kB ? eta -:--:--\n",
      "   ------ --------------------------------- 61.4/357.9 kB 1.6 MB/s eta 0:00:01\n",
      "   ---------------- ----------------------- 143.4/357.9 kB 1.7 MB/s eta 0:00:01\n",
      "   ---------------------------------- ----- 307.2/357.9 kB 2.4 MB/s eta 0:00:01\n",
      "   ---------------------------------- ----- 307.2/357.9 kB 2.4 MB/s eta 0:00:01\n",
      "   -------------------------------------- - 348.2/357.9 kB 1.8 MB/s eta 0:00:01\n",
      "   -------------------------------------- - 348.2/357.9 kB 1.8 MB/s eta 0:00:01\n",
      "   -------------------------------------- - 348.2/357.9 kB 1.8 MB/s eta 0:00:01\n",
      "   -------------------------------------- - 348.2/357.9 kB 1.8 MB/s eta 0:00:01\n",
      "   -------------------------------------- 357.9/357.9 kB 965.7 kB/s eta 0:00:00\n",
      "Downloading dacite-1.8.1-py3-none-any.whl (14 kB)\n",
      "Downloading pydantic-2.7.1-py3-none-any.whl (409 kB)\n",
      "   ---------------------------------------- 0.0/409.3 kB ? eta -:--:--\n",
      "   ------------------------ --------------- 245.8/409.3 kB 7.6 MB/s eta 0:00:01\n",
      "   ----------------------------------- ---- 358.4/409.3 kB 3.7 MB/s eta 0:00:01\n",
      "   ---------------------------------------  399.4/409.3 kB 4.1 MB/s eta 0:00:01\n",
      "   ---------------------------------------  399.4/409.3 kB 4.1 MB/s eta 0:00:01\n",
      "   ---------------------------------------- 409.3/409.3 kB 2.0 MB/s eta 0:00:00\n",
      "Downloading pydantic_core-2.18.2-cp311-none-win_amd64.whl (1.9 MB)\n",
      "   ---------------------------------------- 0.0/1.9 MB ? eta -:--:--\n",
      "   - -------------------------------------- 0.1/1.9 MB 1.5 MB/s eta 0:00:02\n",
      "   ---- ----------------------------------- 0.2/1.9 MB 2.5 MB/s eta 0:00:01\n",
      "   ------ --------------------------------- 0.3/1.9 MB 2.5 MB/s eta 0:00:01\n",
      "   --------- ------------------------------ 0.4/1.9 MB 2.8 MB/s eta 0:00:01\n",
      "   ---------- ----------------------------- 0.5/1.9 MB 2.5 MB/s eta 0:00:01\n",
      "   ------------ --------------------------- 0.6/1.9 MB 2.4 MB/s eta 0:00:01\n",
      "   -------------- ------------------------- 0.7/1.9 MB 2.5 MB/s eta 0:00:01\n",
      "   ----------------- ---------------------- 0.8/1.9 MB 2.5 MB/s eta 0:00:01\n",
      "   -------------------- ------------------- 1.0/1.9 MB 2.5 MB/s eta 0:00:01\n",
      "   ----------------------- ---------------- 1.1/1.9 MB 2.6 MB/s eta 0:00:01\n",
      "   ------------------------- -------------- 1.2/1.9 MB 2.6 MB/s eta 0:00:01\n",
      "   -------------------------- ------------- 1.3/1.9 MB 2.5 MB/s eta 0:00:01\n",
      "   ---------------------------- ----------- 1.4/1.9 MB 2.5 MB/s eta 0:00:01\n",
      "   ---------------------------- ----------- 1.4/1.9 MB 2.5 MB/s eta 0:00:01\n",
      "   ---------------------------- ----------- 1.4/1.9 MB 2.5 MB/s eta 0:00:01\n",
      "   ---------------------------- ----------- 1.4/1.9 MB 2.5 MB/s eta 0:00:01\n",
      "   ---------------------------- ----------- 1.4/1.9 MB 2.5 MB/s eta 0:00:01\n",
      "   ---------------------------- ----------- 1.4/1.9 MB 2.5 MB/s eta 0:00:01\n",
      "   ---------------------------- ----------- 1.4/1.9 MB 2.5 MB/s eta 0:00:01\n",
      "   ---------------------------- ----------- 1.4/1.9 MB 2.5 MB/s eta 0:00:01\n",
      "   ---------------------------------------  1.9/1.9 MB 2.1 MB/s eta 0:00:01\n",
      "   ---------------------------------------  1.9/1.9 MB 2.1 MB/s eta 0:00:01\n",
      "   ---------------------------------------  1.9/1.9 MB 2.1 MB/s eta 0:00:01\n",
      "   ---------------------------------------  1.9/1.9 MB 2.1 MB/s eta 0:00:01\n",
      "   ---------------------------------------- 1.9/1.9 MB 1.9 MB/s eta 0:00:00\n",
      "Downloading typeguard-4.2.1-py3-none-any.whl (34 kB)\n",
      "Downloading visions-0.7.6-py3-none-any.whl (104 kB)\n",
      "   ---------------------------------------- 0.0/104.8 kB ? eta -:--:--\n",
      "   ---------------------------------------  102.4/104.8 kB 5.8 MB/s eta 0:00:01\n",
      "   ---------------------------------------  102.4/104.8 kB 5.8 MB/s eta 0:00:01\n",
      "   -------------------------------------- 104.8/104.8 kB 756.7 kB/s eta 0:00:00\n",
      "Downloading wordcloud-1.9.3-cp311-cp311-win_amd64.whl (300 kB)\n",
      "   ---------------------------------------- 0.0/300.2 kB ? eta -:--:--\n",
      "   ------------ --------------------------- 92.2/300.2 kB 1.7 MB/s eta 0:00:01\n",
      "   ------------------------------ --------- 225.3/300.2 kB 2.3 MB/s eta 0:00:01\n",
      "   ---------------------------------------  297.0/300.2 kB 3.1 MB/s eta 0:00:01\n",
      "   ---------------------------------------  297.0/300.2 kB 3.1 MB/s eta 0:00:01\n",
      "   ---------------------------------------- 300.2/300.2 kB 1.2 MB/s eta 0:00:00\n",
      "Downloading annotated_types-0.6.0-py3-none-any.whl (12 kB)\n",
      "Downloading typing_extensions-4.11.0-py3-none-any.whl (34 kB)\n",
      "Installing collected packages: typing-extensions, dacite, annotated-types, typeguard, pydantic-core, wordcloud, visions, pydantic, ydata_profiling\n",
      "  Attempting uninstall: typing-extensions\n",
      "    Found existing installation: typing_extensions 4.9.0\n",
      "    Uninstalling typing_extensions-4.9.0:\n",
      "      Successfully uninstalled typing_extensions-4.9.0\n",
      "  Attempting uninstall: visions\n",
      "    Found existing installation: visions 0.7.4\n",
      "    Uninstalling visions-0.7.4:\n",
      "      Successfully uninstalled visions-0.7.4\n",
      "  Attempting uninstall: pydantic\n",
      "    Found existing installation: pydantic 1.10.12\n",
      "    Uninstalling pydantic-1.10.12:\n",
      "      Successfully uninstalled pydantic-1.10.12\n",
      "Successfully installed annotated-types-0.6.0 dacite-1.8.1 pydantic-2.7.1 pydantic-core-2.18.2 typeguard-4.2.1 typing-extensions-4.11.0 visions-0.7.6 wordcloud-1.9.3 ydata_profiling-4.7.0\n"
     ]
    },
    {
     "name": "stderr",
     "output_type": "stream",
     "text": [
      "  WARNING: Failed to remove contents in a temporary directory 'C:\\Users\\Hardsty1e\\anaconda\\Lib\\site-packages\\~ydantic'.\n",
      "  You can safely remove it manually.\n",
      "ERROR: pip's dependency resolver does not currently take into account all the packages that are installed. This behaviour is the source of the following dependency conflicts.\n",
      "pandas-profiling 3.2.0 requires visions[type_image_path]==0.7.4, but you have visions 0.7.6 which is incompatible.\n"
     ]
    }
   ],
   "source": [
    "!pip install ydata_profiling"
   ]
  },
  {
   "cell_type": "code",
   "execution_count": 10,
   "id": "acaefa39",
   "metadata": {},
   "outputs": [
    {
     "data": {
      "application/vnd.jupyter.widget-view+json": {
       "model_id": "c0fc0d048b924c0a9d663495db06d247",
       "version_major": 2,
       "version_minor": 0
      },
      "text/plain": [
       "Summarize dataset:   0%|          | 0/5 [00:00<?, ?it/s]"
      ]
     },
     "metadata": {},
     "output_type": "display_data"
    },
    {
     "name": "stderr",
     "output_type": "stream",
     "text": [
      "C:\\Users\\Hardsty1e\\anaconda\\Lib\\site-packages\\ydata_profiling\\model\\correlations.py:66: UserWarning: There was an attempt to calculate the auto correlation, but this failed.\n",
      "To hide this warning, disable the calculation\n",
      "(using `df.profile_report(correlations={\"auto\": {\"calculate\": False}})`\n",
      "If this is problematic for your use case, please report this as an issue:\n",
      "https://github.com/ydataai/ydata-profiling/issues\n",
      "(include the error message: 'could not convert string to float: 'S'')\n",
      "  warnings.warn(\n",
      "C:\\Users\\Hardsty1e\\anaconda\\Lib\\site-packages\\seaborn\\matrix.py:260: FutureWarning: Format strings passed to MaskedConstant are ignored, but in future may error or produce different behavior\n",
      "  annotation = (\"{:\" + self.fmt + \"}\").format(val)\n",
      "C:\\Users\\Hardsty1e\\anaconda\\Lib\\site-packages\\ydata_profiling\\model\\missing.py:78: UserWarning: There was an attempt to generate the Heatmap missing values diagrams, but this failed.\n",
      "To hide this warning, disable the calculation\n",
      "(using `df.profile_report(missing_diagrams={\"Heatmap\": False}`)\n",
      "If this is problematic for your use case, please report this as an issue:\n",
      "https://github.com/ydataai/ydata-profiling/issues\n",
      "(include the error message: 'could not convert string to float: '--'')\n",
      "  warnings.warn(\n"
     ]
    },
    {
     "data": {
      "application/vnd.jupyter.widget-view+json": {
       "model_id": "d2b7b8fb7ca14cc6a1b00ad175beecee",
       "version_major": 2,
       "version_minor": 0
      },
      "text/plain": [
       "Generate report structure:   0%|          | 0/1 [00:00<?, ?it/s]"
      ]
     },
     "metadata": {},
     "output_type": "display_data"
    },
    {
     "data": {
      "application/vnd.jupyter.widget-view+json": {
       "model_id": "56a4ff8b0a194af0a68e27cb95485e2d",
       "version_major": 2,
       "version_minor": 0
      },
      "text/plain": [
       "Render HTML:   0%|          | 0/1 [00:00<?, ?it/s]"
      ]
     },
     "metadata": {},
     "output_type": "display_data"
    },
    {
     "data": {
      "application/vnd.jupyter.widget-view+json": {
       "model_id": "6d6587ecad124da49e3046e6be93ec2b",
       "version_major": 2,
       "version_minor": 0
      },
      "text/plain": [
       "Export report to file:   0%|          | 0/1 [00:00<?, ?it/s]"
      ]
     },
     "metadata": {},
     "output_type": "display_data"
    }
   ],
   "source": [
    "from ydata_profiling import ProfileReport\n",
    "prof = ProfileReport(df)\n",
    "prof.to_file(output_file = 'output.html')"
   ]
  },
  {
   "cell_type": "code",
   "execution_count": null,
   "id": "2426435d",
   "metadata": {},
   "outputs": [],
   "source": []
  }
 ],
 "metadata": {
  "kernelspec": {
   "display_name": "Python 3 (ipykernel)",
   "language": "python",
   "name": "python3"
  },
  "language_info": {
   "codemirror_mode": {
    "name": "ipython",
    "version": 3
   },
   "file_extension": ".py",
   "mimetype": "text/x-python",
   "name": "python",
   "nbconvert_exporter": "python",
   "pygments_lexer": "ipython3",
   "version": "3.11.7"
  }
 },
 "nbformat": 4,
 "nbformat_minor": 5
}
